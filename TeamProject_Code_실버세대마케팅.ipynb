{
 "cells": [
  {
   "cell_type": "code",
   "execution_count": null,
   "id": "d2450f33",
   "metadata": {},
   "outputs": [],
   "source": [
    "import pandas as pd \n",
    "import numpy as np\n",
    "import seaborn as sns\n",
    "import matplotlib\n",
    "import plotly.express as px\n",
    "import matplotlib.pyplot as plt\n",
    "import matplotlib.font_manager as fm\n",
    "matplotlib.rcParams['axes.unicode_minus'] = False\n",
    "plt.rc('font', family=fm.FontProperties(fname=\"c:/Windows/Fonts/malgun.ttf\").get_name())"
   ]
  },
  {
   "cell_type": "markdown",
   "id": "915b87eb",
   "metadata": {},
   "source": [
    "**실버 고객의 중요성 및 마케팅 방향 설정**  \n",
    "\n",
    "- 서울연구원, 2014년 2월 호, <新실버세대를 위한 젊은 비즈니스>, https://www.si.re.kr/node/48461\n",
    "\n",
    "“세시봉 콘서트”, “조용필 콘서트”, “이문세 콘서트”에 참석한 중년관객들, ‘7번방의 선물’, ‘광해, 왕이 된 남자’ 등 영화분야에 나타난 50대의 막강해진 티켓파워, “꽃보다 할배”로 인한 노년층의 여행수요 등 과거 소비의 소외층으로 간주되었던 중·고령층들이 점차 소비의 주류층으로 이동하고 있다.\n",
    "\n",
    "특히 주목할 것은 우리나라 고령화시대를 주도하게 될 베이비부머세대가 2012년 현재 우리나라 총인구 4명 중 1명을 차지할 만큼 큰 규모를 이루고 있을 뿐만 아니라 `자산이나 소득규모에 있어서도 현재의 고령층과는 구별되는 소비여력`을 가지고 있어 새로운 비즈니스의 수요층으로 부상하고 있다는 것이다. 최근 자료에 의하면 노후준비에 있어서도 베이비부머세대는 현재 고령층에 비해 상대적으로 양호한 노후준비를 하고 있는 것으로 조사되었다.  \n",
    "\n",
    "베이비부머의 신(新)비즈니스 모델들은 소비층의 `다양한 건강상태, 소득수준 및 소비욕구를 반영`한 큰 그림이며, 실제적으로 실버산업 소비자는 다양한 소비욕구를 가진 다양한 계층의 집합체임을 잊어서는 안 된다."
   ]
  },
  {
   "cell_type": "markdown",
   "id": "45f66a00",
   "metadata": {},
   "source": [
    "## <목차>\n",
    "- [1. 데이터 전처리](#1.-데이터-전처리)  \n",
    "- [2. Food](#2.-Food)\n",
    "    - [2-1. Clustering (K-Means)](#2-1.-Clustering-(K-Means))  \n",
    "    - [2-2. 건강식품](#2-2.-건강식품)\n",
    "- [3. Nofood](#3.-Nofood)\n",
    "    - [3-1. RFM 분석](#3-1.-RFM-분석)\n",
    "    - [3-2. 의류잡화](#3-2.-의류잡화)\n",
    "        - [3-2-1. 주얼리](#3-2-1.-주얼리)\n",
    "        - [3-2-2. 캐주얼](#3-2-2.-캐주얼)\n",
    "    - [3-3. 가전제품](#3-3.-가전제품)\n",
    "        - [3-3-1. 결혼 시기와 연관](#3-3-1.-결혼-시기와-연관)\n",
    "        - [3-3-2. 가을 & 주방가전](#3-3-2.-가을-&-주방가전)"
   ]
  },
  {
   "cell_type": "markdown",
   "id": "b6eb7822",
   "metadata": {},
   "source": [
    "# 1. 데이터 전처리\n",
    "- `Demo.csv`, `구매내역정보.csv` 합친 `df`\n",
    "- 분석에 필요한 열 추가 및 변경\n",
    "    - 구매일자 : 구매월, 구매요일, 구매계절, 평일주말\n",
    "    - 성별 : 남,여로 변경\n",
    "    - 연령 : 연령대\n",
    "    - 구매시간 : 영업시간 9시~22시로 설정하여 그 외 시간 변경\n",
    "- 상품대분류명 기준 : 식품 `food` / 비식품 `nofood` 로 분류"
   ]
  },
  {
   "cell_type": "markdown",
   "id": "21dc5080",
   "metadata": {},
   "source": [
    "**Demo.csv, 구매내역정보.csv 합친 df**"
   ]
  },
  {
   "cell_type": "code",
   "execution_count": null,
   "id": "0cf92ee9",
   "metadata": {},
   "outputs": [],
   "source": [
    "cs = pd.read_csv('Demo.csv', encoding='cp949', engine='python')\n",
    "tr = pd.read_csv('구매내역정보.csv', encoding='cp949', engine='python')\n",
    "df = pd.merge(cs, tr, on='ID')\n",
    "df.head()"
   ]
  },
  {
   "cell_type": "markdown",
   "id": "734481d7",
   "metadata": {},
   "source": [
    "**columns 추가 및 변경**"
   ]
  },
  {
   "cell_type": "markdown",
   "id": "771a14c9",
   "metadata": {},
   "source": [
    "1. 구매일자 : 구매월, 구매요일, 구매계절, 평일주말"
   ]
  },
  {
   "cell_type": "code",
   "execution_count": null,
   "id": "13ef4b6f",
   "metadata": {},
   "outputs": [],
   "source": [
    "df.구매일자 = df.구매일자.astype(str).astype('datetime64')\n",
    "df['구매월'] = df.구매일자.dt.month\n",
    "df['구매요일'] = df.구매일자.apply(lambda x: ['월', '화', '수', '목', '금', '토', '일'][x.weekday()] +'요일')"
   ]
  },
  {
   "cell_type": "code",
   "execution_count": null,
   "id": "a1a28e27",
   "metadata": {},
   "outputs": [],
   "source": [
    "def season(x):\n",
    "    if 3 <= x <= 5:\n",
    "        return '봄'\n",
    "    elif 6 <= x <= 8:\n",
    "        return '여름'\n",
    "    elif 9 <= x <= 11:\n",
    "        return '가을'\n",
    "    else:\n",
    "        return '겨울'\n",
    "    \n",
    "df['구매계절'] = df.구매월.apply(season)"
   ]
  },
  {
   "cell_type": "code",
   "execution_count": null,
   "id": "6b4e9714",
   "metadata": {},
   "outputs": [],
   "source": [
    "df['평일주말'] =  df.구매요일.apply(lambda x : '주말' if x == '토요일' or x == '일요일' else '평일')"
   ]
  },
  {
   "cell_type": "markdown",
   "id": "20ebf08a",
   "metadata": {},
   "source": [
    "2. 성별 : 남, 여로 변경"
   ]
  },
  {
   "cell_type": "code",
   "execution_count": null,
   "id": "e9a42f3d",
   "metadata": {},
   "outputs": [],
   "source": [
    "df['성별'] = df.성별.apply(lambda x: '남' if x == 1 else '여')"
   ]
  },
  {
   "cell_type": "markdown",
   "id": "c507cacd",
   "metadata": {},
   "source": [
    "3. 연령 : 연령대"
   ]
  },
  {
   "cell_type": "code",
   "execution_count": null,
   "id": "1643d05d",
   "metadata": {},
   "outputs": [],
   "source": [
    "df['연령대'] = df.연령.astype('str').str[0]+'0대'"
   ]
  },
  {
   "cell_type": "markdown",
   "id": "2a4e82c8",
   "metadata": {},
   "source": [
    "4. 구매시간 데이터 변경  \n",
    "- 오프라인 데이터이므로 영업시간 9시~22시로 설정\n",
    "- 그 외 1시부터 3시는 닫는 시간인 22시(밤)으로, 4시부터 8시는 여는 시간(아침)으로 설정"
   ]
  },
  {
   "cell_type": "code",
   "execution_count": null,
   "id": "11ac0caa",
   "metadata": {},
   "outputs": [],
   "source": [
    "df_target = df.query('1<=구매시간<=7')\n",
    "df_target0 = df.query('구매시간>=8')\n",
    "\n",
    "fig, ax = plt.subplots(figsize=(12,8))\n",
    "\n",
    "plt.scatter(df_target.구매시간, df_target.구매수량, color='red')\n",
    "plt.scatter(df_target0.구매시간, df_target0.구매수량, color='black')\n",
    "\n",
    "plt.xlabel('구매시간', size=13)\n",
    "plt.ylabel('구매수량', size=13)\n",
    "\n",
    "label = sorted(df.구매시간.value_counts().index)\n",
    "plt.xticks(label)\n",
    "\n",
    "plt.grid(True)\n",
    "plt.title('변경 전 구매시간-구매수량 산점도', size=15)\n",
    "plt.show()"
   ]
  },
  {
   "cell_type": "code",
   "execution_count": null,
   "id": "2eba61c6",
   "metadata": {},
   "outputs": [],
   "source": [
    "df['구매시간'] = df.구매시간.apply(lambda x: 9 if 4<=x<=7 else 22 if 1<=x<=3 else x)"
   ]
  },
  {
   "cell_type": "code",
   "execution_count": null,
   "id": "6b6da4b6",
   "metadata": {
    "scrolled": false
   },
   "outputs": [],
   "source": [
    "df_target = df.query('1<=구매시간<=7')\n",
    "df_target0 = df.query('구매시간>=8')\n",
    "\n",
    "fig, ax = plt.subplots(figsize=(12,8))\n",
    "\n",
    "plt.scatter(df_target.구매시간, df_target.구매수량, color='red')\n",
    "plt.scatter(df_target0.구매시간, df_target0.구매수량, color='black')\n",
    "\n",
    "plt.xlabel('구매시간', size=13)\n",
    "plt.ylabel('구매수량', size=13)\n",
    "\n",
    "label = sorted(df.구매시간.value_counts().index)\n",
    "plt.xticks(label)\n",
    "\n",
    "plt.grid(True)\n",
    "plt.title('변경 후 구매시간-구매수량 산점도', size=15)\n",
    "plt.show()"
   ]
  },
  {
   "cell_type": "markdown",
   "id": "e7401592",
   "metadata": {},
   "source": [
    "**상품대분류명 기준 : 식품 food / 비식품 nofood 로 분류**\n",
    "- 식품 데이터가 비율이 높기 때문에 이후 분석의 용이함을 위해 따로 분류하여 저장"
   ]
  },
  {
   "cell_type": "code",
   "execution_count": null,
   "id": "951f2106",
   "metadata": {},
   "outputs": [],
   "source": [
    "fig, axes = plt.subplots(1,3, figsize=(19,6))\n",
    "colors_items = matplotlib.cm.get_cmap('Set2')(np.arange(len(df)))\n",
    "\n",
    "df.상품대분류명.value_counts().plot.pie(ax=axes[0], autopct='%.1f%%', colors=colors_items,\n",
    "                 explode=(0.1,0,0,0,0,0.01,0.01), startangle=180, counterclock=False)\n",
    "axes[0].set_title('전체 고객의 상품대분류 별 구매빈도', size=15)\n",
    "axes[0].set_ylabel('')\n",
    "\n",
    "\n",
    "df[df['성별'] == '남'].상품대분류명.value_counts().plot.pie(ax=axes[1], autopct='%.1f%%', colors=colors_items,\n",
    "                 explode=(0.1,0,0,0,0,0.01,0.01), startangle=180,counterclock=False)\n",
    "axes[1].set_title('남성 고객의 상품대분류 별 구매빈도', size=15)\n",
    "axes[1].set_ylabel('')\n",
    "\n",
    "df[df['성별'] == '여'].상품대분류명.value_counts().plot.pie(ax=axes[2], autopct='%.1f%%', colors=colors_items,\n",
    "                 explode=(0.1,0,0,0,0,0.01,0.01), startangle=180,counterclock=False)\n",
    "axes[2].set_title('여성 고객의 상품대분류 별 구매빈도', size=15)\n",
    "axes[2].set_ylabel('')\n",
    "\n",
    "plt.legend(bbox_to_anchor=(0.4,0), prop={'size': 12}, ncol=7)\n",
    "plt.show()"
   ]
  },
  {
   "cell_type": "code",
   "execution_count": null,
   "id": "8d9f0fce",
   "metadata": {},
   "outputs": [],
   "source": [
    "food = df.query('상품대분류명 ==\"식품\"')\n",
    "nofood = df.query('상품대분류명 !=\"식품\"')"
   ]
  },
  {
   "cell_type": "markdown",
   "id": "fc6e3905",
   "metadata": {},
   "source": [
    "# 2. Food"
   ]
  },
  {
   "cell_type": "markdown",
   "id": "0674a250",
   "metadata": {},
   "source": [
    "## 2-1. Clustering (K-Means)"
   ]
  },
  {
   "cell_type": "code",
   "execution_count": null,
   "id": "df7c2b29",
   "metadata": {},
   "outputs": [],
   "source": [
    "ff = food.groupby('ID')['구매금액'].agg([\n",
    "    ('총구매액',np.sum), \n",
    "    ('구매건수', np.size), \n",
    "    ('평균구매액', lambda x: np.round(np.mean(x))),\n",
    "    ('최대구매액', np.max)]).reset_index()\n",
    "ff.head()"
   ]
  },
  {
   "cell_type": "code",
   "execution_count": null,
   "id": "ab3db0a6",
   "metadata": {},
   "outputs": [],
   "source": [
    "def drop_column_level(data):\n",
    "    c_list = []\n",
    "    for _, c in data.columns:\n",
    "        if not c:\n",
    "            c_list.append(_)\n",
    "        else:\n",
    "            c_list.append(c)\n",
    "    return c_list"
   ]
  },
  {
   "cell_type": "code",
   "execution_count": null,
   "id": "200c11ff",
   "metadata": {},
   "outputs": [],
   "source": [
    "f = food.groupby('ID')['상품중분류명'].agg([\n",
    "    ('구매상품수(중)', lambda x: x.nunique())]).reset_index()\n",
    "ff = ff.merge(f, how='left')\n",
    "ff.head()"
   ]
  },
  {
   "cell_type": "code",
   "execution_count": null,
   "id": "e78172d5",
   "metadata": {},
   "outputs": [],
   "source": [
    "f = food.groupby('ID')['구매일자'].agg([\n",
    "    ('내점일수',lambda x: x.nunique()),\n",
    "    ('구매주기', lambda x: int(((x.max() - x.min()).days) / x.nunique())),\n",
    "    ('주말방문율', lambda x: (x.dt.weekday > 4).mean().round(2))]).reset_index()\n",
    "ff = ff.merge(f, how='left')\n",
    "ff.head()"
   ]
  },
  {
   "cell_type": "code",
   "execution_count": null,
   "id": "02e7a962",
   "metadata": {},
   "outputs": [],
   "source": [
    "visit_cnt = food.groupby('ID')['성별'].agg(lambda x: x.count())\n",
    "per_amount = (food.groupby('ID')['구매금액'].sum() / visit_cnt).round(0).reset_index().rename(columns={0:'거래당구매액'})\n",
    "per_count = (food.groupby('ID')['구매수량'].count() / visit_cnt).round(1).reset_index().rename(columns={0:'거래당구매건수'})\n",
    "f = pd.merge(per_amount, per_count, on='ID')\n",
    "ff = ff.merge(f, how='left')\n",
    "ff.head()"
   ]
  },
  {
   "cell_type": "code",
   "execution_count": null,
   "id": "ae03f332",
   "metadata": {},
   "outputs": [],
   "source": [
    "week_to = food.구매일자.max()\n",
    "week_trans = []\n",
    "for i in range(10):\n",
    "    week_from = week_to + pd.DateOffset(weeks=-1)\n",
    "    week_trans.append(food.query('@week_from < 구매일자 <= @week_to')\n",
    "                      .groupby('ID')['성별']\n",
    "                      .agg([(f'w{10-i}', 'count')])\n",
    "                      .reset_index())\n",
    "    week_to = week_from\n",
    "\n",
    "f = pd.DataFrame({'ID': food.ID.unique()})\n",
    "for w in week_trans[::-1]:\n",
    "    f = pd.merge(f, w, how='left')\n",
    "f = f.fillna(0)\n",
    "\n",
    "f['구매추세'] = f.apply(lambda x: np.polyfit(range(10), x[1:], 1)[0].round(2), axis=1)\n",
    "ff = ff.merge(f.iloc[:,[0,-1]], how='left')\n",
    "ff.head()"
   ]
  },
  {
   "cell_type": "code",
   "execution_count": null,
   "id": "c57d2434",
   "metadata": {},
   "outputs": [],
   "source": [
    "f = food.groupby('ID')['구매시간'].agg([\n",
    "    ('주구매시간', lambda x: x.value_counts().index[0])\n",
    "]).reset_index()\n",
    "ff = ff.merge(f, how='left')\n",
    "ff.head()"
   ]
  },
  {
   "cell_type": "code",
   "execution_count": null,
   "id": "0448403f",
   "metadata": {},
   "outputs": [],
   "source": [
    "food['판매단가'] = food['구매금액'] / food['구매수량']\n",
    "\n",
    "# 상품별 평균 판매단가에 대한 4분위수 계산 => 3Q 이상을 고가상품으로 설정\n",
    "price_4q = food.groupby('상품중분류명')['판매단가'].mean().quantile([.25,.5,.75])\n",
    "price_4q"
   ]
  },
  {
   "cell_type": "code",
   "execution_count": null,
   "id": "8d74012f",
   "metadata": {},
   "outputs": [],
   "source": [
    "f = (food.groupby('ID')['판매단가']\n",
    "     .agg([('고가상품구매율', lambda x: (x > price_4q.iloc[2]).mean().round(2))])\n",
    "     .reset_index())\n",
    "ff = ff.merge(f, how='left')\n",
    "ff.head()"
   ]
  },
  {
   "cell_type": "code",
   "execution_count": null,
   "id": "b5bed3ab",
   "metadata": {},
   "outputs": [],
   "source": [
    "plt.figure(figsize=(10,8))\n",
    "sns.heatmap(ff.iloc[:,1:].corr(), annot=True, cmap=\"coolwarm\", vmin = -1, vmax = 1)\n",
    "plt.show()"
   ]
  },
  {
   "cell_type": "code",
   "execution_count": null,
   "id": "77b993ba",
   "metadata": {},
   "outputs": [],
   "source": [
    "sns.lmplot(x='구매건수', y='내점일수', data=ff, \n",
    "           line_kws={'color':'red'}, scatter_kws={'edgecolor':'black'})\n",
    "plt.show()"
   ]
  },
  {
   "cell_type": "code",
   "execution_count": null,
   "id": "69a8287b",
   "metadata": {},
   "outputs": [],
   "source": [
    "ff_norm = ff.iloc[:,1:].apply(lambda x: (x - x.mean()) / x.std(), axis=1) \n",
    "ff_norm.head()"
   ]
  },
  {
   "cell_type": "code",
   "execution_count": null,
   "id": "31255b4a",
   "metadata": {},
   "outputs": [],
   "source": [
    "from sklearn.cluster import KMeans\n",
    "\n",
    "# 군집 수에 따른 SSE(군집내 오차제곱합) 계산\n",
    "wss = []\n",
    "sis = []\n",
    "for k in range(2,10):\n",
    "    kmeans = KMeans(n_clusters=k, random_state=0)\n",
    "    kmeans.fit(ff_norm)\n",
    "    wss = np.append(wss, kmeans.inertia_)\n",
    "    \n",
    "    \n",
    "# 군집 수에 따른 SSE 시각화\n",
    "fig, ax = plt.subplots()\n",
    "line = ax.plot(np.arange(2,10), wss, 'go--', label='SSE')\n",
    "ax.set_ylim(wss.min()*0.55, wss.max()*1.05)\n",
    "ax.set_xlabel('군집 수')\n",
    "ax.set_ylabel('SSE')\n",
    "labels = [l.get_label() for l in line]\n",
    "plt.legend(line, labels)\n",
    "plt.show()"
   ]
  },
  {
   "cell_type": "code",
   "execution_count": null,
   "id": "ccd83c39",
   "metadata": {},
   "outputs": [],
   "source": [
    "best_k = 3\n",
    "kmeans = KMeans(n_clusters=best_k, random_state=0)\n",
    "kmeans.fit(ff_norm)"
   ]
  },
  {
   "cell_type": "code",
   "execution_count": null,
   "id": "4eb89720",
   "metadata": {},
   "outputs": [],
   "source": [
    "ff['세그먼트'] = kmeans.labels_\n",
    "ff.head()"
   ]
  },
  {
   "cell_type": "code",
   "execution_count": null,
   "id": "9a4c7c4e",
   "metadata": {},
   "outputs": [],
   "source": [
    "colors = ['#ff9999', '#ffc000', '#8fd9b6']\n",
    "plt.figure(figsize=(6,6))\n",
    "ff.세그먼트.value_counts().plot.pie(autopct='%.2f%%', figsize=(7,7), \n",
    "                                      startangle=30, legend=False, colors = colors)\n",
    "plt.title(\"군집 비율\")\n",
    "plt.axis('equal')\n",
    "plt.show()"
   ]
  },
  {
   "cell_type": "code",
   "execution_count": null,
   "id": "f18b52ad",
   "metadata": {},
   "outputs": [],
   "source": [
    "fig, ax = plt.subplots(best_k, 1,  figsize=(10,10), sharex=True, sharey=True)\n",
    "ax = ax.ravel()\n",
    "plt.tight_layout()\n",
    "\n",
    "for i in range(kmeans.n_clusters):\n",
    "    ax[i].set_title('cluster %d' % i)\n",
    "    sns.barplot(x=np.arange(ff_norm.columns.size), y=kmeans.cluster_centers_[i], ax=ax[i])\n",
    "    ax[i].set_xticks(np.arange(ff_norm.columns.size))\n",
    "    ax[i].set_xticklabels(ff_norm.columns, rotation=90)"
   ]
  },
  {
   "cell_type": "code",
   "execution_count": null,
   "id": "2fcc754a",
   "metadata": {},
   "outputs": [],
   "source": [
    "# 클러스터 분석 확인\n",
    "fig, ax1 = plt.subplots()\n",
    "ax1 = ff.groupby('세그먼트')['거래당구매액'].mean().plot.bar(color = colors)\n",
    "ax1.set_ylabel('평균 거래당구매액')\n",
    "ax1.legend(bbox_to_anchor = (0.15,1.2))\n",
    "\n",
    "ax2 = ax1.twinx()\n",
    "ax2 = ff.groupby('세그먼트')['내점일수'].mean().plot(color = 'red', marker = 'o')\n",
    "ax2.set_ylabel('평균 내점일수')\n",
    "ax2.legend(bbox_to_anchor = (1.15,1.2))\n",
    "plt.show()"
   ]
  },
  {
   "cell_type": "code",
   "execution_count": null,
   "id": "6d5508ce",
   "metadata": {},
   "outputs": [],
   "source": [
    "ff.groupby('세그먼트')['거래당구매액'].mean()"
   ]
  },
  {
   "cell_type": "code",
   "execution_count": null,
   "id": "2301c439",
   "metadata": {},
   "outputs": [],
   "source": [
    "ff.groupby('세그먼트')['내점일수'].mean()"
   ]
  },
  {
   "cell_type": "markdown",
   "id": "1e35b641",
   "metadata": {},
   "source": [
    "**클러스터 분석 결과**\n",
    "1. `클러스터 0` : 총구매액과 내점일수 가장 많지만, 거래당 구매액 낮음 ⇒ 주고객층으로 설정\n",
    "2. 클러스터 1 : 총구매액과 내점일수 가장 적지만, 거래당 구매액 가장 높음\n",
    "3. 클러스터 2 : 총구매액과 거래당 구매액 높은 편이고, 내점일수 낮음"
   ]
  },
  {
   "attachments": {
    "image.png": {
     "image/png": "[encoded data removed]"
    }
   },
   "cell_type": "markdown",
   "id": "52c7be38",
   "metadata": {},
   "source": [
    "_클러스터링 결과 차이_\n",
    "\n",
    "같은 코드를 실행했을 때, 클러스터링 결과 차이 존재.  \n",
    "클러스터 0은 같게 나타났지만, 클러스터 1 & 클러스터 2에서 약간의 차이 보임.  \n",
    "따라서, 클러스터 1 & 클러스터 2는 공통적으로 나타나는 특징인 적은 내점일수와 높은 거래당 구매액에 초점을 맞춰 분석 진행.\n",
    "\n",
    "![image.png](attachment:image.png)"
   ]
  },
  {
   "cell_type": "markdown",
   "id": "3cc84294",
   "metadata": {},
   "source": [
    "## 2-2. 건강식품"
   ]
  },
  {
   "cell_type": "markdown",
   "id": "adc35804",
   "metadata": {},
   "source": [
    "- 클러스터 1 & 클러스터 2 에서 거래당 구매액 높게 나타나는 이유"
   ]
  },
  {
   "cell_type": "code",
   "execution_count": null,
   "id": "9c57de68",
   "metadata": {},
   "outputs": [],
   "source": [
    "ff.groupby('세그먼트')['거래당구매액'].mean().plot.bar(color = colors)\n",
    "plt.xticks(rotation = 0)\n",
    "plt.show()"
   ]
  },
  {
   "cell_type": "code",
   "execution_count": null,
   "id": "9cdbee61",
   "metadata": {},
   "outputs": [],
   "source": [
    "fff = food.merge(ff[['ID','세그먼트']], on = 'ID')\n",
    "\n",
    "pd.DataFrame({customers:\n",
    "              fff[fff['세그먼트'] == customers].상품중분류명.value_counts().head(5).index for customers in fff.세그먼트.unique()})[[0,1,2]]"
   ]
  },
  {
   "cell_type": "code",
   "execution_count": null,
   "id": "e0bd2d49",
   "metadata": {},
   "outputs": [],
   "source": [
    "food.groupby('상품중분류명')['구매금액'].mean().sort_values(ascending = False).plot.bar(color = colors_items[0], label = None)\n",
    "plt.title('식품 상품중분류 별 평균 금액')\n",
    "plt.show()"
   ]
  },
  {
   "cell_type": "markdown",
   "id": "e8af6781",
   "metadata": {},
   "source": [
    "# 3. Nofood"
   ]
  },
  {
   "cell_type": "markdown",
   "id": "faffde5b",
   "metadata": {},
   "source": [
    "## 3-1. RFM 분석"
   ]
  },
  {
   "cell_type": "code",
   "execution_count": null,
   "id": "c5fcd6a2",
   "metadata": {},
   "outputs": [],
   "source": [
    "# R\n",
    "# 최종 구매일 다음날을 기준으로 계산 \n",
    "now = nofood.구매일자.max()+pd.DateOffset(days=1)\n",
    "\n",
    "# method chaining (multi-line)\n",
    "recency = (nofood.groupby('ID')['구매일자']\n",
    "           .agg(lambda x,y: (y - x).min().days, now).reset_index()\n",
    "           .rename(columns={'구매일자':'recency'})\n",
    "          )\n",
    "recency.head()"
   ]
  },
  {
   "cell_type": "code",
   "execution_count": null,
   "id": "94e9d1b5",
   "metadata": {},
   "outputs": [],
   "source": [
    "# F\n",
    "frequency = nofood.ID.value_counts().reset_index().rename(columns={'index' : 'ID', 'ID' : 'frequency'})\n",
    "frequency.head()"
   ]
  },
  {
   "cell_type": "code",
   "execution_count": null,
   "id": "ddb913b8",
   "metadata": {},
   "outputs": [],
   "source": [
    "# M\n",
    "monetary = nofood.groupby('ID')['구매금액'].agg([('monetary', np.sum)]).reset_index()\n",
    "monetary.head()"
   ]
  },
  {
   "cell_type": "code",
   "execution_count": null,
   "id": "8fcd2497",
   "metadata": {},
   "outputs": [],
   "source": [
    "# 위에서 만든 3개의 data_frame를 merge\n",
    "rfm = recency.merge(frequency).merge(monetary)\n",
    "rfm.head()"
   ]
  },
  {
   "cell_type": "code",
   "execution_count": null,
   "id": "50259a3c",
   "metadata": {},
   "outputs": [],
   "source": [
    "# recency, frequency, monetary 값을 각각 5분위로 분류하여 점수 부여\n",
    "rfm['R'] = pd.qcut(rfm['recency'], q=5, labels=range(5,0,-1)).astype(int)\n",
    "rfm['F'] = pd.qcut(rfm['frequency'], q=5, labels=range(1,6)).astype(int)\n",
    "rfm['M'] = pd.qcut(rfm['monetary'], q=5, labels=range(1,6)).astype(int)\n",
    "rfm.head()"
   ]
  },
  {
   "cell_type": "code",
   "execution_count": null,
   "id": "06ade6e7",
   "metadata": {},
   "outputs": [],
   "source": [
    "# R,F,M 점수를 조합하여 RFM 그룹 생성\n",
    "rfm['RFMgroup'] = rfm['R'].map(str) + rfm['F'].map(str) + rfm['M'].map(str)\n",
    "rfm.head()"
   ]
  },
  {
   "cell_type": "code",
   "execution_count": null,
   "id": "fef67bbf",
   "metadata": {},
   "outputs": [],
   "source": [
    "# 고객군 분류\n",
    "\n",
    "best = list(rfm.loc[rfm['RFMgroup'] == '333'].index) #333\n",
    "lost_cheap = list(rfm.loc[rfm['RFMgroup'] == '111'].index) #111\n",
    "lost = list(rfm.loc[rfm['RFMgroup'] == '133'].index) #133\n",
    "lost_almost = list(rfm.loc[rfm['RFMgroup'] == '233'].index) #233\n",
    "\n",
    "rfm['Segment'] = 0\n",
    "\n",
    "for i in rfm.index :\n",
    "    if i in lost_cheap :\n",
    "        rfm['Segment'].iloc[i] = 'Lost Cheap Customers'\n",
    "    elif i in lost : \n",
    "        rfm['Segment'].iloc[i] = 'Lost Customer'\n",
    "    elif i in best : \n",
    "        rfm['Segment'].iloc[i] = 'Best Customer'\n",
    "    elif i in lost_almost : \n",
    "        rfm['Segment'].iloc[i] = 'Almost Lost'\n",
    "    else : \n",
    "        rfm['Segment'].iloc[i] = 'Other'"
   ]
  },
  {
   "cell_type": "code",
   "execution_count": null,
   "id": "e36cf7a8",
   "metadata": {},
   "outputs": [],
   "source": [
    "loyal = list(rfm.loc[rfm['F'] == 3].index) #그 외 RFM group에서 F 3인 그룹\n",
    "loyal2 = []\n",
    "\n",
    "for i in loyal :\n",
    "    if i not in best and i not in lost_cheap and i not in lost_almost and i not in lost :\n",
    "        loyal2.append(i)\n",
    "\n",
    "for i in rfm.index :\n",
    "    if i in loyal2:\n",
    "        rfm.Segment.iloc[i] = 'Loyal Customers'"
   ]
  },
  {
   "cell_type": "code",
   "execution_count": null,
   "id": "cd039524",
   "metadata": {},
   "outputs": [],
   "source": [
    "big = list(rfm.loc[rfm['M'] == 3].index) # 그 외 RFM group에서 M 3인 그룹\n",
    "big2 = []\n",
    "\n",
    "for i in big :\n",
    "    if i not in best and i not in lost_cheap and i not in lost_almost and i not in lost :\n",
    "        big2.append(i)\n",
    "\n",
    "for i in rfm.index :\n",
    "    if i in big2:\n",
    "        rfm.Segment.iloc[i] = 'Big Spenders'"
   ]
  },
  {
   "cell_type": "code",
   "execution_count": null,
   "id": "db939196",
   "metadata": {},
   "outputs": [],
   "source": [
    "md = pd.merge(nofood, rfm)\n",
    "md.head()"
   ]
  },
  {
   "cell_type": "code",
   "execution_count": null,
   "id": "cc8f2c33",
   "metadata": {},
   "outputs": [],
   "source": [
    "md.head()"
   ]
  },
  {
   "cell_type": "code",
   "execution_count": null,
   "id": "68991497",
   "metadata": {},
   "outputs": [],
   "source": [
    "sq1 = md.groupby('Segment')['구매금액'].sum().sort_values(ascending = False).reset_index()\n",
    "sq1.drop([0], inplace = True) #Segment \"other\" 제거"
   ]
  },
  {
   "cell_type": "code",
   "execution_count": null,
   "id": "7f8d91e1",
   "metadata": {},
   "outputs": [],
   "source": [
    "sq2 = md.groupby('Segment')['ID'].nunique().reindex(index = sq1.Segment.values).reset_index()\n",
    "sq2"
   ]
  },
  {
   "cell_type": "code",
   "execution_count": null,
   "id": "3c310ee3",
   "metadata": {
    "scrolled": false
   },
   "outputs": [],
   "source": [
    "colors_seg = matplotlib.cm.get_cmap('Set1')(np.arange(len(sq1)))\n",
    "\n",
    "plt.figure(figsize=(10,8))\n",
    "sns.scatterplot(x=\"구매금액\", \n",
    "                y='ID',\n",
    "                s=1000, alpha=0.5,\n",
    "                hue=\"Segment\",\n",
    "                data=sq1.merge(sq2, on = 'Segment'), palette = colors_seg)\n",
    "plt.xlabel(\"총 구매금액\")\n",
    "plt.ylabel(\"고객 수\")\n",
    "plt.grid(True)\n",
    "plt.show()"
   ]
  },
  {
   "cell_type": "markdown",
   "id": "39da45a6",
   "metadata": {},
   "source": [
    "**RFM 분석 결과**\n",
    "1. RFM 지수가 높으며 총구매금액이 높고, 고객 수도 많은 `Loyal Customers` & `Big Spenders` 주고객층으로 설정\n",
    "2. RFM 지수 낮으며 총구매금액이 낮고, 고객 수도 적은 `Almost Lost` & `Lost Customer` 이탈고객으로 설정"
   ]
  },
  {
   "cell_type": "code",
   "execution_count": null,
   "id": "74aa65b4",
   "metadata": {},
   "outputs": [],
   "source": [
    "pd.DataFrame({customers:\n",
    "              md[md['Segment'] == customers].상품중분류명.value_counts().head(5).index for customers in sq1.Segment.unique()})"
   ]
  },
  {
   "cell_type": "markdown",
   "id": "6b997dc7",
   "metadata": {},
   "source": [
    "## 3-2. 의류잡화"
   ]
  },
  {
   "cell_type": "markdown",
   "id": "e353f322",
   "metadata": {},
   "source": [
    "- 총 구매금액이 가장 높게 나타나는 `의류잡화`에 초점"
   ]
  },
  {
   "cell_type": "code",
   "execution_count": null,
   "id": "7a19b1cb",
   "metadata": {},
   "outputs": [],
   "source": [
    "nofood.groupby('상품대분류명')['구매금액'].sum().sort_values(ascending = False).plot.bar(color = colors_items[1:])\n",
    "plt.xticks(rotation = 0)\n",
    "plt.show()"
   ]
  },
  {
   "cell_type": "markdown",
   "id": "cd45e5d2",
   "metadata": {},
   "source": [
    "### 3-2-1. 주얼리"
   ]
  },
  {
   "cell_type": "markdown",
   "id": "0b4a0672",
   "metadata": {},
   "source": [
    "- 의류잡화 중 금액대가 높은 `주얼리`에 대한 분석 진행"
   ]
  },
  {
   "cell_type": "code",
   "execution_count": null,
   "id": "453eadb5",
   "metadata": {},
   "outputs": [],
   "source": [
    "nofood[nofood['상품대분류명'] == '의류잡화'].groupby('상품중분류명')['구매금액'].mean().sort_values(ascending = False).plot.barh(color = colors_items[1])\n",
    "plt.show()"
   ]
  },
  {
   "cell_type": "code",
   "execution_count": null,
   "id": "1b297aaf",
   "metadata": {},
   "outputs": [],
   "source": [
    "# 해당 상품군 데이터 추출\n",
    "jewelry = nofood[nofood['상품중분류명'] == '주얼리']\n",
    "\n",
    "# 전체 구매시간별 구매 비율\n",
    "all_jewelry = jewelry['구매시간'].value_counts(normalize = True).sort_index().rename('전체')\n",
    "all_jewelry"
   ]
  },
  {
   "cell_type": "code",
   "execution_count": null,
   "id": "d67c8ae4",
   "metadata": {},
   "outputs": [],
   "source": [
    "# 평일 구매시간별 구매 비율\n",
    "weekday_jewelry = jewelry[jewelry['평일주말'] == '평일']['구매시간'].value_counts(normalize = True).sort_index().rename('평일')\n",
    "weekday_jewelry"
   ]
  },
  {
   "cell_type": "code",
   "execution_count": null,
   "id": "23b06164",
   "metadata": {},
   "outputs": [],
   "source": [
    "# 주말 구매시간별 구매 비율\n",
    "weekend_jewelry = jewelry[jewelry['평일주말'] == '주말']['구매시간'].value_counts(normalize = True).sort_index().rename('주말')\n",
    "weekend_jewelry"
   ]
  },
  {
   "cell_type": "code",
   "execution_count": null,
   "id": "8e217b68",
   "metadata": {},
   "outputs": [],
   "source": [
    "# 데이터 합치기\n",
    "time_jewerly = pd.concat([all_jewelry, weekday_jewelry, weekend_jewelry], axis = 1)\n",
    "time_jewerly"
   ]
  },
  {
   "cell_type": "code",
   "execution_count": null,
   "id": "2515b0c5",
   "metadata": {},
   "outputs": [],
   "source": [
    "sns.heatmap(time_jewerly, cmap='YlOrBr', linewidths=1, vmin=0, annot=True, annot_kws={'size':12})\n",
    "plt.title('주얼리 시간대별 구매 비율 비교', fontsize=13)\n",
    "plt.show()"
   ]
  },
  {
   "cell_type": "markdown",
   "id": "8dc97c47",
   "metadata": {},
   "source": [
    "### 3-2-2. 캐주얼"
   ]
  },
  {
   "cell_type": "markdown",
   "id": "7a64cdcf",
   "metadata": {},
   "source": [
    "**실버세대의 캐주얼에 대한 관심 증가**\n",
    "\n",
    "- 백진엽, '응사' '꽃보다할배'의 경제효과는 얼마?, new1, https://www.news1.kr/articles/1505129\n",
    "\n",
    "평균 연령 76세의 꽃할배 4인방의 파란만장 배낭여행기를 담은 '꽃보다 할배'는 `실버 세대가 즐길 수 있을만한 다양한 문화 공연 및 레저산업`이 활기를 띠게 되는 계기를 마련했다는 평가다. 아울러 젊은층이 즐겨찾는 `'이지캐주얼' 의류를 구매한 60대 이상 고객 매출도 동반상승, 실버 산업의 새로운 트렌드`를 이끌었다."
   ]
  },
  {
   "cell_type": "code",
   "execution_count": null,
   "id": "e6023a3b",
   "metadata": {
    "scrolled": false
   },
   "outputs": [],
   "source": [
    "casuals = ['여성용의류-캐주얼', '남성용의류-캐주얼']\n",
    "\n",
    "fig, axes = plt.subplots(1,2, figsize=(10,6), sharey=True)\n",
    "\n",
    "# 주얼리의 과정 반복\n",
    "for casual in casuals :\n",
    "    item = nofood[nofood['상품중분류명'] == casual]\n",
    "    all_item = item['구매시간'].value_counts(normalize = True).sort_index().rename('전체')\n",
    "    weekday_item = item[item['평일주말'] == '평일']['구매시간'].value_counts(normalize = True).sort_index().rename('평일')\n",
    "    weekend_item = item[item['평일주말'] == '주말']['구매시간'].value_counts(normalize = True).sort_index().rename('주말')\n",
    "    time_item = pd.concat([all_item, weekday_item, weekend_item], axis = 1)\n",
    "    sns.heatmap(time_item, cmap='YlOrBr', ax=axes[casuals.index(casual)], linewidths=1, vmin=0, annot=True, annot_kws={'size':12})\n",
    "    axes[casuals.index(casual)].set_title(str(casual)+' 시간대별 구매 비율 비교', fontsize=13)\n",
    "\n",
    "plt.show()"
   ]
  },
  {
   "cell_type": "markdown",
   "id": "f918c8dd",
   "metadata": {},
   "source": [
    "## 3-3. 가전제품"
   ]
  },
  {
   "cell_type": "markdown",
   "id": "bf515398",
   "metadata": {},
   "source": [
    "- 다른 제품군과 다르게 계절별 구매수량 편차가 큰 `가전제품`에 대한 분석 진행"
   ]
  },
  {
   "cell_type": "code",
   "execution_count": null,
   "id": "745a8eb1",
   "metadata": {},
   "outputs": [],
   "source": [
    "fig, ax = plt.subplots(figsize=(10,8))\n",
    "\n",
    "for i in list(df.상품대분류명.value_counts().index[1:]):\n",
    "    nofood.query('상품대분류명==@i').구매계절\\\n",
    "    .value_counts()[['봄','여름','가을','겨울']].plot(label=i, marker='s', markersize=7, color = colors_items[list(df.상품대분류명.value_counts().index[1:]).index(i)+1])\n",
    "\n",
    "ax.set_xlabel('계절', size=15)\n",
    "ax.set_ylabel('구매수량', size=15)\n",
    "    \n",
    "plt.title('비식품 계절 별 상품대분류의 구매수량', size=20)\n",
    "plt.legend(bbox_to_anchor=(1,1))\n",
    "plt.show()"
   ]
  },
  {
   "cell_type": "code",
   "execution_count": null,
   "id": "d8605f84",
   "metadata": {},
   "outputs": [],
   "source": [
    "# 가장 적은 봄과 가장 많은 가을 3.3배 차이\n",
    "\n",
    "nofood.query('상품대분류명==\"가전제품\"').구매계절\\\n",
    ".value_counts()[['봄','여름','가을','겨울']].max()/nofood.query('상품대분류명==\"가전제품\"').구매계절\\\n",
    ".value_counts()[['봄','여름','가을','겨울']].min()"
   ]
  },
  {
   "cell_type": "markdown",
   "id": "c516f9a8",
   "metadata": {},
   "source": [
    "### 3-3-1. 결혼 시기와 연관\n",
    "- 혼수 관련 제품"
   ]
  },
  {
   "cell_type": "code",
   "execution_count": null,
   "id": "ebee6cf7",
   "metadata": {},
   "outputs": [],
   "source": [
    "marriage = pd.read_excel('marriage.xlsx')\n",
    "marriage = marriage.set_index('연도')\n",
    "marriage"
   ]
  },
  {
   "cell_type": "code",
   "execution_count": null,
   "id": "8f5bf196",
   "metadata": {},
   "outputs": [],
   "source": [
    "marriage = marriage.loc[:, '1월':'12월'].apply(lambda x : x*1000)\n",
    "marriage[['봄', '여름', '가을', '겨울']] = 0\n",
    "for i in marriage.columns[:-4] :\n",
    "    marriage[season(int(i[:-1]))] += marriage[i]\n",
    "marriage"
   ]
  },
  {
   "cell_type": "code",
   "execution_count": null,
   "id": "9c125371",
   "metadata": {},
   "outputs": [],
   "source": [
    "local_marriage = pd.read_csv('시도_시군구_월별_혼인_20210604161106.csv', encoding='cp949', engine='python')\n",
    "local_marriage = local_marriage.set_index('시군구별')\n",
    "local_marriage"
   ]
  },
  {
   "cell_type": "code",
   "execution_count": null,
   "id": "15f8df42",
   "metadata": {},
   "outputs": [],
   "source": [
    "local_marriage[['봄', '여름', '가을', '겨울']] = 0\n",
    "for i in local_marriage.columns[:-4] :\n",
    "    local_marriage[season(int(i[-2:]))] += local_marriage[i]\n",
    "local_marriage"
   ]
  },
  {
   "cell_type": "code",
   "execution_count": null,
   "id": "b14ef30c",
   "metadata": {},
   "outputs": [],
   "source": [
    "fig, axes = plt.subplots(1,2, figsize=(20,5))\n",
    "\n",
    "xlabels = ['봄','여름','가을','겨울']\n",
    "\n",
    "marriage.iloc[0, -4:].T.plot(ax = axes[0], color='red', marker='o')\n",
    "axes[0].set_title('2004년~2014년 전국 계절 별 혼인건수', size = 20)\n",
    "\n",
    "local_marriage.iloc[:, -4:].T.plot.bar(ax = axes[1], color=['gold','darkblue','green'], stacked=True)\n",
    "axes[1].set_title('2014년 서울,부산,경기도의 계절 별 혼인건수', size = 20)\n",
    "axes[1].legend(bbox_to_anchor=(1,1))\n",
    "\n",
    "plt.show()"
   ]
  },
  {
   "cell_type": "markdown",
   "id": "05fb6a63",
   "metadata": {},
   "source": [
    "**분석 결과**\n",
    "1. 가전제품 계절별 판매 비율을 볼 때, `가을 >겨울` > 여름 > 봄\n",
    "2. 전국과 데이터에 반영된 지역(서울, 부산, 경기)의 계절별 혼인 건수를 볼 때, `겨울 > 봄` > 여름 > 가을"
   ]
  },
  {
   "cell_type": "markdown",
   "id": "a67e883f",
   "metadata": {},
   "source": [
    "### 3-3-2. 가을 & 주방가전\n",
    "- 계절 중 가장 많이 판매되는 `가을`에 초점\n",
    "- 특히, 가전제품 중 높은 판매 비율을 갖는 `주방가전`"
   ]
  },
  {
   "cell_type": "code",
   "execution_count": null,
   "id": "95afcb9e",
   "metadata": {},
   "outputs": [],
   "source": [
    "# 해당 상품군 데이터 추출\n",
    "ele = nofood.query(\"상품대분류명 == '가전제품'\")"
   ]
  },
  {
   "cell_type": "code",
   "execution_count": null,
   "id": "cd270086",
   "metadata": {},
   "outputs": [],
   "source": [
    "colors_season = matplotlib.cm.get_cmap('tab20c')(np.arange(4))\n",
    "\n",
    "pd.crosstab(ele.상품중분류명, ele.구매계절, \n",
    "            normalize=True, margins=True)[['봄', '여름', '가을', '겨울']].reindex(ele.상품중분류명.value_counts().index).plot.barh(stacked = True, color = colors_season)\n",
    "plt.title('가전제품 상품중분류 기준 계절별 판매비율')\n",
    "plt.show()"
   ]
  },
  {
   "cell_type": "code",
   "execution_count": null,
   "id": "30814bca",
   "metadata": {},
   "outputs": [],
   "source": [
    "# 주방 가전 월별 판매 금액 비교\n",
    "month = [i for i in range(1,13)]\n",
    "\n",
    "colors_month = ['#304169', '#304169',\n",
    "                '#445C95', '#445C95', '#445C95',\n",
    "               '#627BB7', '#627BB7', '#627BB7',\n",
    "               '#8DA0CB', '#8DA0CB', '#8DA0CB', '#304169']\n",
    "\n",
    "fig, axes = plt.subplots(1,2, figsize=(20,5))\n",
    "\n",
    "ele.query(\"상품중분류명 == '주방가전'\").groupby('구매월')['구매금액'].sum().plot.bar(ax = axes[0], color = colors_month)\n",
    "axes[0].set_title('주방가전 월별 총 판매금액', size = 20)\n",
    "axes[0].set_xticklabels(month, rotation = 0)\n",
    "\n",
    "ele.query(\"상품중분류명 == '주방가전'\").groupby('구매월')['구매금액'].mean().plot.bar(ax = axes[1], color = colors_month)\n",
    "axes[1].set_title('주방가전 월별 건당 평균 판매금액', size = 20)\n",
    "axes[1].set_xticklabels(month, rotation = 0)\n",
    "\n",
    "plt.show()"
   ]
  },
  {
   "cell_type": "code",
   "execution_count": null,
   "id": "b5ce25bf",
   "metadata": {},
   "outputs": [],
   "source": [
    "# 주방가전 11월 내역 중 금액 상위 10위\n",
    "ele.query(\"상품중분류명 == '주방가전' and 구매월 == 11\").sort_values(by = '구매금액', ascending = False)['구매금액'][:10].values"
   ]
  },
  {
   "cell_type": "markdown",
   "id": "61681076",
   "metadata": {},
   "source": [
    "**분석 결과**\n",
    "1. 매출이 좋은 가을 중 특히 가장 높은 매출을 보이는 `11월`\n",
    "2. 11월에 판매된 상품 중 주방가전의 금액을 나열해보았을 때, 가격대를 보아 냉장고와 같은 상품이 많이 팔렸음을 추정"
   ]
  }
 ],
 "metadata": {
  "kernelspec": {
   "display_name": "Python 3 (ipykernel)",
   "language": "python",
   "name": "python3"
  },
  "language_info": {
   "codemirror_mode": {
    "name": "ipython",
    "version": 3
   },
   "file_extension": ".py",
   "mimetype": "text/x-python",
   "name": "python",
   "nbconvert_exporter": "python",
   "pygments_lexer": "ipython3",
   "version": "3.8.15"
  }
 },
 "nbformat": 4,
 "nbformat_minor": 5
}
